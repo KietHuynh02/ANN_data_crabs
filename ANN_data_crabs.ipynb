{
  "nbformat": 4,
  "nbformat_minor": 0,
  "metadata": {
    "colab": {
      "provenance": [],
      "authorship_tag": "ABX9TyPlYPnzTQULX6pClDyOs4BR",
      "include_colab_link": true
    },
    "kernelspec": {
      "name": "python3",
      "display_name": "Python 3"
    },
    "language_info": {
      "name": "python"
    }
  },
  "cells": [
    {
      "cell_type": "markdown",
      "metadata": {
        "id": "view-in-github",
        "colab_type": "text"
      },
      "source": [
        "<a href=\"https://colab.research.google.com/github/KietHuynh02/ANN_data_crabs/blob/main/ANN_data_crabs.ipynb\" target=\"_parent\"><img src=\"https://colab.research.google.com/assets/colab-badge.svg\" alt=\"Open In Colab\"/></a>"
      ]
    },
    {
      "cell_type": "code",
      "execution_count": 2,
      "metadata": {
        "id": "FT3yrixKBW8R"
      },
      "outputs": [],
      "source": [
        "import pandas as pd\n",
        "url = 'data_crab.csv'\n",
        "data = pd.read_csv(url)"
      ]
    },
    {
      "cell_type": "code",
      "source": [
        "from sklearn.linear_model import Perceptron\n",
        "from sklearn.model_selection import train_test_split\n",
        "from sklearn.metrics import accuracy_score\n",
        "from sklearn.preprocessing import StandardScaler\n",
        "\n",
        "data['sp'] = data['sp'].replace(to_replace=['O','B'], value = [0,1])\n",
        "data['sex'] = data['sex'].replace(to_replace = ['M','F'], value = [0,1])\n",
        "\n",
        "X = pd.DataFrame(\n",
        "    [data['sp'], data['FL'], data['RW'], data['CL'], data['CW'], data['BD']]).T\n",
        "y = pd.DataFrame(data['sex'])\n",
        "\n",
        "X_train, X_test, y_train, y_test = train_test_split(X,y,test_size = 0.3)\n",
        "sc = StandardScaler()\n",
        "sc.fit(X_train)\n",
        "X_train_std = sc.transform(X_train)\n",
        "X_test_std = sc.transform(X_test)\n",
        "print(X_train_std[:5])\n",
        "print('___________________________________________')\n",
        "print(X_train[:5])\n",
        "print('___________________________________________')\n",
        "print(y[:5])"
      ],
      "metadata": {
        "colab": {
          "base_uri": "https://localhost:8080/"
        },
        "id": "9l-h4KLSBsfP",
        "outputId": "5151b548-eae7-4d7f-feaa-a894c1e34d04"
      },
      "execution_count": 3,
      "outputs": [
        {
          "output_type": "stream",
          "name": "stdout",
          "text": [
            "[[-9.44400282e-01  6.06001392e-01 -1.68813650e-03  6.22256732e-01\n",
            "   5.23485512e-01  6.62092462e-01]\n",
            " [ 1.05887304e+00 -8.65716275e-01 -7.89485169e-01 -7.24750842e-01\n",
            "  -6.87885921e-01 -9.44117985e-01]\n",
            " [-9.44400282e-01  1.67371813e+00  7.46719044e-01  1.54389349e+00\n",
            "   1.46423141e+00  1.71343021e+00]\n",
            " [-9.44400282e-01  1.18314558e+00  1.96780444e+00  1.07598560e+00\n",
            "   1.23226667e+00  1.07094603e+00]\n",
            " [ 1.05887304e+00 -5.48286974e-01  3.77017151e-02 -3.56096138e-01\n",
            "  -2.49730296e-01 -3.30837632e-01]]\n",
            "___________________________________________\n",
            "      sp    FL    RW    CL    CW    BD\n",
            "130  0.0  17.9  12.9  36.9  40.9  16.5\n",
            "14   1.0  12.8  10.9  27.4  31.5  11.0\n",
            "145  0.0  21.6  14.8  43.4  48.2  20.1\n",
            "187  0.0  19.9  17.9  40.1  46.4  17.9\n",
            "78   1.0  13.9  13.0  30.0  34.9  13.1\n",
            "___________________________________________\n",
            "   sex\n",
            "0    0\n",
            "1    0\n",
            "2    0\n",
            "3    0\n",
            "4    0\n"
          ]
        }
      ]
    },
    {
      "cell_type": "code",
      "source": [
        "#Hoc 40 lan và toc do hoc 0.1\n",
        "model = Perceptron(max_iter = 40, eta0 = 0.1, random_state = 0) \n",
        "model.fit(X_train_std, y_train)\n",
        "y_pred = model.predict(X_test_std)\n",
        "print(y_pred)\n",
        "print('___________________________________________')\n",
        "print(y_test)\n",
        "print('___________________________________________')\n",
        "print('Do chinh xac mo hinh: ', accuracy_score(y_test, y_pred))"
      ],
      "metadata": {
        "colab": {
          "base_uri": "https://localhost:8080/"
        },
        "id": "ONuqJRaUB9Jj",
        "outputId": "a9d4f4ff-167b-4e2d-8bb1-bf323132ad1f"
      },
      "execution_count": 4,
      "outputs": [
        {
          "output_type": "stream",
          "name": "stdout",
          "text": [
            "[1 1 0 1 1 1 1 1 1 1 1 1 0 1 1 1 0 0 0 0 1 0 0 0 1 1 0 1 0 0 1 0 1 1 0 1 0\n",
            " 1 1 1 1 1 1 1 0 0 0 1 1 0 0 1 1 1 1 0 0 1 0 0]\n",
            "___________________________________________\n",
            "     sex\n",
            "170    1\n",
            "90     1\n",
            "135    0\n",
            "102    0\n",
            "163    1\n",
            "54     1\n",
            "186    1\n",
            "182    1\n",
            "161    1\n",
            "8      0\n",
            "188    1\n",
            "110    0\n",
            "134    0\n",
            "64     1\n",
            "18     0\n",
            "196    1\n",
            "35     0\n",
            "20     0\n",
            "112    0\n",
            "41     0\n",
            "70     1\n",
            "13     0\n",
            "111    0\n",
            "48     0\n",
            "77     1\n",
            "198    1\n",
            "19     0\n",
            "69     1\n",
            "136    0\n",
            "37     0\n",
            "59     1\n",
            "49     0\n",
            "61     1\n",
            "160    1\n",
            "0      0\n",
            "76     1\n",
            "127    0\n",
            "101    0\n",
            "81     1\n",
            "175    1\n",
            "162    1\n",
            "68     1\n",
            "50     1\n",
            "91     1\n",
            "34     0\n",
            "33     0\n",
            "32     0\n",
            "55     1\n",
            "191    1\n",
            "116    0\n",
            "29     0\n",
            "104    0\n",
            "11     0\n",
            "53     1\n",
            "89     1\n",
            "142    0\n",
            "114    0\n",
            "82     1\n",
            "23     0\n",
            "120    0\n",
            "___________________________________________\n",
            "Do chinh xac mo hinh:  0.8833333333333333\n"
          ]
        },
        {
          "output_type": "stream",
          "name": "stderr",
          "text": [
            "/usr/local/lib/python3.9/dist-packages/sklearn/utils/validation.py:1143: DataConversionWarning: A column-vector y was passed when a 1d array was expected. Please change the shape of y to (n_samples, ), for example using ravel().\n",
            "  y = column_or_1d(y, warn=True)\n"
          ]
        }
      ]
    }
  ]
}